{
  "cells": [
    {
      "cell_type": "markdown",
      "metadata": {
        "id": "view-in-github",
        "colab_type": "text"
      },
      "source": [
        "<a href=\"https://colab.research.google.com/github/dongthethang2k15kkk/dtt2k15--challenge-AI2526/blob/main/python_challenge_week.ipynb\" target=\"_parent\"><img src=\"https://colab.research.google.com/assets/colab-badge.svg\" alt=\"Open In Colab\"/></a>"
      ]
    },
    {
      "cell_type": "markdown",
      "id": "80eec36f",
      "metadata": {
        "id": "80eec36f"
      },
      "source": [
        "# Python Challenge Week\n",
        "Chào mừng bạn đến với tuần thử thách! Notebook này dẫn bạn đi từ kiến thức nền tảng tới dự án dữ liệu hoàn chỉnh. Hãy đọc kỹ phần mô tả, chạy các ví dụ và hoàn thành thử thách cuối mỗi module."
      ]
    },
    {
      "cell_type": "markdown",
      "id": "bd57068b",
      "metadata": {
        "id": "bd57068b"
      },
      "source": [
        "## Hướng dẫn sử dụng\n",
        "1. Đọc phần 📖 Giải thích để nắm khái niệm.\n",
        "2. Chạy các cell 💻 Ví dụ để quan sát kết quả.\n",
        "3. Nghiên cứu ⚠️ Common Mistakes và 💡 Pythonic Way để tránh lỗi.\n",
        "4. Hoàn thành 🎯 Thử thách bằng cách viết mã ở các cell TODO.\n",
        "5. Ở cuối notebook, chọn một dự án để thực hành tổng hợp kỹ năng."
      ]
    },
    {
      "cell_type": "markdown",
      "id": "c15a09d2",
      "metadata": {
        "id": "c15a09d2"
      },
      "source": [
        "## Phần Setup\n",
        "Chúng ta sẽ cài đặt các thư viện cần thiết và kiểm tra môi trường."
      ]
    },
    {
      "cell_type": "markdown",
      "id": "de67f094",
      "metadata": {
        "id": "de67f094"
      },
      "source": [
        "### Thông tin cơ bản\n",
        "Họ và tên:  \\\n",
        "MSSV:  \\\n",
        "Link conservation AI: [bấm vào đây](https://chatgpt.com/share/68eb6bf3-bbbc-8008-ae06-73ecde2f05da)"
      ]
    },
    {
      "cell_type": "markdown",
      "id": "ced1c1be",
      "metadata": {
        "id": "ced1c1be"
      },
      "source": [
        "### Cài đặt thư viện\n",
        "Nếu bạn đang dùng môi trường ảo, hãy đảm bảo đã kích hoạt trước khi cài đặt."
      ]
    },
    {
      "cell_type": "code",
      "execution_count": null,
      "id": "3259f264",
      "metadata": {
        "id": "3259f264",
        "outputId": "8a509332-af5e-4ba7-f270-65f09a0d6626",
        "colab": {
          "base_uri": "https://localhost:8080/"
        }
      },
      "outputs": [
        {
          "output_type": "stream",
          "name": "stdout",
          "text": [
            "Requirement already satisfied: numpy in /usr/local/lib/python3.12/dist-packages (2.0.2)\n",
            "Requirement already satisfied: matplotlib in /usr/local/lib/python3.12/dist-packages (3.10.0)\n",
            "Requirement already satisfied: contourpy>=1.0.1 in /usr/local/lib/python3.12/dist-packages (from matplotlib) (1.3.3)\n",
            "Requirement already satisfied: cycler>=0.10 in /usr/local/lib/python3.12/dist-packages (from matplotlib) (0.12.1)\n",
            "Requirement already satisfied: fonttools>=4.22.0 in /usr/local/lib/python3.12/dist-packages (from matplotlib) (4.60.1)\n",
            "Requirement already satisfied: kiwisolver>=1.3.1 in /usr/local/lib/python3.12/dist-packages (from matplotlib) (1.4.9)\n",
            "Requirement already satisfied: packaging>=20.0 in /usr/local/lib/python3.12/dist-packages (from matplotlib) (25.0)\n",
            "Requirement already satisfied: pillow>=8 in /usr/local/lib/python3.12/dist-packages (from matplotlib) (11.3.0)\n",
            "Requirement already satisfied: pyparsing>=2.3.1 in /usr/local/lib/python3.12/dist-packages (from matplotlib) (3.2.5)\n",
            "Requirement already satisfied: python-dateutil>=2.7 in /usr/local/lib/python3.12/dist-packages (from matplotlib) (2.9.0.post0)\n",
            "Requirement already satisfied: six>=1.5 in /usr/local/lib/python3.12/dist-packages (from python-dateutil>=2.7->matplotlib) (1.17.0)\n"
          ]
        }
      ],
      "source": [
        "# Cài đặt numpy và matplotlib (chạy một lần)\n",
        "%pip install numpy matplotlib"
      ]
    },
    {
      "cell_type": "markdown",
      "id": "396b46d4",
      "metadata": {
        "id": "396b46d4"
      },
      "source": [
        "### Kiểm tra import\n",
        "Chạy cell dưới để chắc chắn thư viện đã sẵn sàng."
      ]
    },
    {
      "cell_type": "code",
      "execution_count": null,
      "id": "4a974b0c",
      "metadata": {
        "id": "4a974b0c",
        "outputId": "136cf729-abbf-424b-d624-4f69314d16e2",
        "colab": {
          "base_uri": "https://localhost:8080/"
        }
      },
      "outputs": [
        {
          "output_type": "stream",
          "name": "stdout",
          "text": [
            "Thư viện đã sẵn sàng!\n"
          ]
        }
      ],
      "source": [
        "import math\n",
        "import statistics as stats\n",
        "import numpy as np\n",
        "import matplotlib.pyplot as plt\n",
        "\n",
        "print(\"Thư viện đã sẵn sàng!\")"
      ]
    },
    {
      "cell_type": "markdown",
      "id": "379eb267",
      "metadata": {
        "id": "379eb267"
      },
      "source": [
        "## Phần 1: Python Essentials"
      ]
    },
    {
      "cell_type": "markdown",
      "id": "07ecbe18",
      "metadata": {
        "id": "07ecbe18"
      },
      "source": [
        "### Module 1: Basic Syntax & Data Types\n",
        "#### 📖 Giải thích\n",
        "- Các kiểu dữ liệu cơ bản: `int`, `float`, `str`, `bool`.\n",
        "- Ép kiểu bằng `int()`, `float()`, `str()`, `bool()`.\n",
        "#### ⚠️ Common Mistakes\n",
        "- Cộng chuỗi với số: `\"5\" + 2` gây `TypeError`.\n",
        "#### 💡 Pythonic Way\n",
        "- Ưu tiên f-string (`f\"...{value}...\"`) thay vì `%` formatting.\n",
        "#### 🎯 Thử thách\n",
        "- Viết chương trình nhận cân nặng (kg), chiều cao (m), tính BMI và phân loại."
      ]
    },
    {
      "cell_type": "code",
      "execution_count": null,
      "id": "6d7d8998",
      "metadata": {
        "id": "6d7d8998",
        "outputId": "ab6570af-d37e-4e18-ec0f-99466516cbc9",
        "colab": {
          "base_uri": "https://localhost:8080/"
        }
      },
      "outputs": [
        {
          "output_type": "stream",
          "name": "stdout",
          "text": [
            "Lan (20 tuổi) cao 1.62m. Sinh viên? True\n",
            "Ép kiểu từ chuỗi sang số: 42\n"
          ]
        }
      ],
      "source": [
        "# 💻 Ví dụ: Khai báo biến và ép kiểu\n",
        "name = \"Lan\"\n",
        "age = 20\n",
        "height = 1.62\n",
        "is_student = True\n",
        "age_str = str(age)\n",
        "print(f\"{name} ({age} tuổi) cao {height}m. Sinh viên? {is_student}\")\n",
        "print(\"Ép kiểu từ chuỗi sang số:\", int(\"42\"))"
      ]
    },
    {
      "cell_type": "code",
      "execution_count": null,
      "id": "5cc205f5",
      "metadata": {
        "id": "5cc205f5",
        "colab": {
          "base_uri": "https://localhost:8080/"
        },
        "outputId": "dd02ab7d-5867-400e-95f6-e61be1d51ee8"
      },
      "outputs": [
        {
          "output_type": "stream",
          "name": "stdout",
          "text": [
            "nhập cân nặng10\n",
            "nhập chiều cao(mét)-0.5\n",
            "béo phì\n"
          ]
        }
      ],
      "source": [
        "# 🎯 Thử thách: Tính BMI và phân loại\n",
        "# TODO: Nhập cân nặng (kg) và chiều cao (m) từ người dùng\n",
        "# TODO: Tính BMI = weight / (height ** 2)\n",
        "# TODO: Phân loại theo chuẩn WHO (Underweight, Normal, Overweight, Obese)\n",
        "# Gợi ý: Dùng điều kiện if/elif để phân loại\n",
        "m=int(input(\"nhập cân nặng\"))\n",
        "h=float(input(\"nhập chiều cao(mét)\"))\n",
        "BMI=m/(h**2)\n",
        "if BMI<18.5:\n",
        "  print(\"gay:))\")\n",
        "elif 18.5<=BMI<=24.9:\n",
        "  print(\"bình thường\")\n",
        "elif 25<=BMI<=29.8:\n",
        "  print(\"thừa cân\")\n",
        "elif BMI>=30:\n",
        "  print(\"béo phì\")\n",
        "\n"
      ]
    },
    {
      "cell_type": "markdown",
      "id": "e01f86d4",
      "metadata": {
        "id": "e01f86d4"
      },
      "source": [
        "### Module 2: Data Structures - List\n",
        "#### 📖 Giải thích\n",
        "- `list` là cấu trúc có thứ tự, mutable, hỗ trợ indexing & slicing.\n",
        "- Dùng `list[start:stop:step]` để cắt danh sách.\n",
        "#### ⚠️ Common Mistakes\n",
        "- \"Index out of range\" khi truy cập vượt giới hạn.\n",
        "- Sao chép nông: `copy_list = original_list` cùng tham chiếu.\n",
        "#### 💡 Pythonic Way\n",
        "- Dùng slicing `list[:]` tạo bản sao, hoặc list comprehension.\n",
        "- Khai thác indexing âm (`list[-1]`) để lấy phần tử cuối.\n",
        "#### 🎯 Thử thách\n",
        "- Tìm max, min, trung bình của danh sách điểm."
      ]
    },
    {
      "cell_type": "code",
      "execution_count": null,
      "id": "6875f2d9",
      "metadata": {
        "id": "6875f2d9",
        "outputId": "ae099df0-e956-4f4c-b9c9-4058a88321a1"
      },
      "outputs": [
        {
          "name": "stdout",
          "output_type": "stream",
          "text": [
            "Danh sách điểm: [8.5, 9.0, 6.75, 7.8, 10, 8.0]\n",
            "Điểm đầu tiên: 8.5\n",
            "Điểm cuối cùng: 8.0\n",
            "Top 3 điểm đầu: [8.5, 9.0, 6.75]\n",
            "Danh sách sau khi reverse: [8.0, 10, 7.8, 6.75, 9.0, 8.5]\n"
          ]
        }
      ],
      "source": [
        "# 💻 Ví dụ: Các thao tác list\n",
        "scores = [8.5, 9.0, 6.5, 7.8, 10]\n",
        "scores.append(8.0)\n",
        "removed = scores.pop(2)  # Xoá phần tử tại index 2\n",
        "scores.insert(2, 6.75)\n",
        "print(\"Danh sách điểm:\", scores)\n",
        "print(\"Điểm đầu tiên:\", scores[0])\n",
        "print(\"Điểm cuối cùng:\", scores[-1])\n",
        "print(\"Top 3 điểm đầu:\", scores[:3])\n",
        "print(\"Danh sách sau khi reverse:\", list(reversed(scores)))"
      ]
    },
    {
      "cell_type": "code",
      "execution_count": null,
      "id": "23d9e7f8",
      "metadata": {
        "id": "23d9e7f8",
        "outputId": "ca112843-d260-463f-8e7d-d44f393c3298",
        "colab": {
          "base_uri": "https://localhost:8080/"
        }
      },
      "outputs": [
        {
          "output_type": "stream",
          "name": "stdout",
          "text": [
            "điểm cao nhất là  11\n",
            "điểm thấp nhất là  0.1\n",
            "điểm trung bình môn là  4.683333333333334\n"
          ]
        }
      ],
      "source": [
        "# 🎯 Thử thách: Thống kê điểm trong list\n",
        "# TODO: Cho sẵn danh sách điểm, hãy tính max, min và trung bình\n",
        "# TODO: In kết quả với định dạng dễ đọc\n",
        "sample_scores = [9, 7.5, 8.25, 6, 10, 7.75]\n",
        "# Gợi ý: sử dụng max(), min(), sum()/len()\n",
        "\n",
        "diem = [1.5, 2.75, 5.5, 0.1, 7.25, 11]\n",
        "print(\"điểm cao nhất là \", max(diem))\n",
        "print(\"điểm thấp nhất là \", min(diem))\n",
        "print(\"điểm trung bình môn là \", sum(diem)/len(diem))"
      ]
    },
    {
      "cell_type": "code",
      "execution_count": null,
      "id": "33fd6f04",
      "metadata": {
        "id": "33fd6f04",
        "outputId": "a640377f-2c4b-4257-c070-7ecbb8ab36b3",
        "colab": {
          "base_uri": "https://localhost:8080/"
        }
      },
      "outputs": [
        {
          "output_type": "stream",
          "name": "stdout",
          "text": [
            "Thông tin học sinh:\n",
            "- name: Minh\n",
            "- age: 19\n",
            "- scores: [8, 9, 7.5]\n",
            "- email: minh@example.com\n",
            "- major: Advanced Automotive Engineering\n",
            "Điểm trung bình: 8.166666666666666\n"
          ]
        }
      ],
      "source": [
        "# 💻 Ví dụ: Làm việc với dictionary\n",
        "student = {\"name\": \"Minh\", \"age\": 19, \"scores\": [8, 9, 7.5]}\n",
        "student[\"email\"] = \"minh@example.com\"\n",
        "student.update({\"major\": \"Advanced Automotive Engineering\"})\n",
        "print(\"Thông tin học sinh:\")\n",
        "for key, value in student.items():\n",
        "    print(f\"- {key}: {value}\")\n",
        "print(\"Điểm trung bình:\", sum(student[\"scores\"]) / len(student[\"scores\"]))"
      ]
    },
    {
      "cell_type": "code",
      "execution_count": null,
      "id": "c3e32a64",
      "metadata": {
        "id": "c3e32a64",
        "outputId": "2a391990-b3e9-489b-802d-70c304e4723c",
        "colab": {
          "base_uri": "https://localhost:8080/"
        }
      },
      "outputs": [
        {
          "output_type": "stream",
          "name": "stdout",
          "text": [
            "nhập 1 câu bất kì :)) sss\n",
            "số lần xuất hiện của:\n",
            "sss:1\n"
          ]
        }
      ],
      "source": [
        "# 🎯 Thử thách: Đếm tần suất từ\n",
        "# TODO: Yêu cầu người dùng nhập một câu bất kỳ\n",
        "# TODO: Chuyển câu về chữ thường, tách theo khoảng trắng\n",
        "# TODO: Dùng dictionary để đếm số lần xuất hiện của từng từ\n",
        "# Gợi ý: Sử dụng dict.get(word, 0)\n",
        "\n",
        "cau = input(\"nhập 1 câu bất kì :)) \")\n",
        "P = cau.lower().split()\n",
        "dic = {}\n",
        "\n",
        "for tu in P:\n",
        "  dic[tu] = dic.get(tu,0) + 1\n",
        "print(\"số lần xuất hiện của:\")\n",
        "\n",
        "for x, y in dic.items():\n",
        "  print(f'{x}:{y}')\n",
        "\n",
        "\n",
        "\n",
        "\n"
      ]
    },
    {
      "cell_type": "markdown",
      "id": "d8df3c7f",
      "metadata": {
        "id": "d8df3c7f"
      },
      "source": [
        "### Module 4: Control Flow\n",
        "#### 📖 Giải thích\n",
        "- Cấu trúc điều kiện: `if`, `elif`, `else`.\n",
        "- Vòng lặp: `for`, `while`, `range`, kèm `break`, `continue`.\n",
        "#### ⚠️ Common Mistakes\n",
        "- Vòng lặp vô hạn do điều kiện dừng sai.\n",
        "- Lỗi thụt lề (indentation).\n",
        "#### 💡 Pythonic Way\n",
        "- Duyệt trực tiếp phần tử: `for item in collection`.\n",
        "- Dùng `enumerate()` khi cần index và giá trị.\n",
        "#### 🎯 Thử thách\n",
        "- In bảng cửu chương từ 1 đến 10 (mỗi dòng biểu diễn một phép nhân)."
      ]
    },
    {
      "cell_type": "code",
      "execution_count": null,
      "id": "79d601fa",
      "metadata": {
        "id": "79d601fa",
        "colab": {
          "base_uri": "https://localhost:8080/"
        },
        "outputId": "995e8785-41e8-4a32-a84d-a5fbe123128a"
      },
      "outputs": [
        {
          "output_type": "stream",
          "name": "stdout",
          "text": [
            "1. apple\n",
            "2. banana\n",
            "3. cherry\n",
            "Lan làm rất tốt!\n",
            "Minh làm rất tốt!\n",
            "Hoa cần cải thiện\n"
          ]
        }
      ],
      "source": [
        "# 💻 Ví dụ: Vòng lặp với list và dict\n",
        "fruits = [\"apple\", \"banana\", \"cherry\"]\n",
        "for index, fruit in enumerate(fruits, start=1):\n",
        "    print(f\"{index}. {fruit}\")\n",
        "\n",
        "grades = {\"Lan\": 9, \"Minh\": 8.5, \"Hoa\": 7.75}\n",
        "for name, grade in grades.items():\n",
        "    if grade < 8:\n",
        "        print(f\"{name} cần cải thiện\")\n",
        "    else:\n",
        "        print(f\"{name} làm rất tốt!\")"
      ]
    },
    {
      "cell_type": "code",
      "execution_count": null,
      "id": "7659eb63",
      "metadata": {
        "id": "7659eb63",
        "colab": {
          "base_uri": "https://localhost:8080/"
        },
        "outputId": "fadaafc1-c7aa-4f03-dc20-dce44c0ac75e"
      },
      "outputs": [
        {
          "output_type": "stream",
          "name": "stdout",
          "text": [
            "1 x 1 = 1  \n",
            "1 x 2 = 2  \n",
            "1 x 3 = 3  \n",
            "1 x 4 = 4  \n",
            "1 x 5 = 5  \n",
            "1 x 6 = 6  \n",
            "1 x 7 = 7  \n",
            "1 x 8 = 8  \n",
            "1 x 9 = 9  \n",
            "1 x 10 = 10  \n",
            "2 x 1 = 2  \n",
            "2 x 2 = 4  \n",
            "2 x 3 = 6  \n",
            "2 x 4 = 8  \n",
            "2 x 5 = 10  \n",
            "2 x 6 = 12  \n",
            "2 x 7 = 14  \n",
            "2 x 8 = 16  \n",
            "2 x 9 = 18  \n",
            "2 x 10 = 20  \n",
            "3 x 1 = 3  \n",
            "3 x 2 = 6  \n",
            "3 x 3 = 9  \n",
            "3 x 4 = 12  \n",
            "3 x 5 = 15  \n",
            "3 x 6 = 18  \n",
            "3 x 7 = 21  \n",
            "3 x 8 = 24  \n",
            "3 x 9 = 27  \n",
            "3 x 10 = 30  \n",
            "4 x 1 = 4  \n",
            "4 x 2 = 8  \n",
            "4 x 3 = 12  \n",
            "4 x 4 = 16  \n",
            "4 x 5 = 20  \n",
            "4 x 6 = 24  \n",
            "4 x 7 = 28  \n",
            "4 x 8 = 32  \n",
            "4 x 9 = 36  \n",
            "4 x 10 = 40  \n",
            "5 x 1 = 5  \n",
            "5 x 2 = 10  \n",
            "5 x 3 = 15  \n",
            "5 x 4 = 20  \n",
            "5 x 5 = 25  \n",
            "5 x 6 = 30  \n",
            "5 x 7 = 35  \n",
            "5 x 8 = 40  \n",
            "5 x 9 = 45  \n",
            "5 x 10 = 50  \n",
            "6 x 1 = 6  \n",
            "6 x 2 = 12  \n",
            "6 x 3 = 18  \n",
            "6 x 4 = 24  \n",
            "6 x 5 = 30  \n",
            "6 x 6 = 36  \n",
            "6 x 7 = 42  \n",
            "6 x 8 = 48  \n",
            "6 x 9 = 54  \n",
            "6 x 10 = 60  \n",
            "7 x 1 = 7  \n",
            "7 x 2 = 14  \n",
            "7 x 3 = 21  \n",
            "7 x 4 = 28  \n",
            "7 x 5 = 35  \n",
            "7 x 6 = 42  \n",
            "7 x 7 = 49  \n",
            "7 x 8 = 56  \n",
            "7 x 9 = 63  \n",
            "7 x 10 = 70  \n",
            "8 x 1 = 8  \n",
            "8 x 2 = 16  \n",
            "8 x 3 = 24  \n",
            "8 x 4 = 32  \n",
            "8 x 5 = 40  \n",
            "8 x 6 = 48  \n",
            "8 x 7 = 56  \n",
            "8 x 8 = 64  \n",
            "8 x 9 = 72  \n",
            "8 x 10 = 80  \n",
            "9 x 1 = 9  \n",
            "9 x 2 = 18  \n",
            "9 x 3 = 27  \n",
            "9 x 4 = 36  \n",
            "9 x 5 = 45  \n",
            "9 x 6 = 54  \n",
            "9 x 7 = 63  \n",
            "9 x 8 = 72  \n",
            "9 x 9 = 81  \n",
            "9 x 10 = 90  \n",
            "10 x 1 = 10  \n",
            "10 x 2 = 20  \n",
            "10 x 3 = 30  \n",
            "10 x 4 = 40  \n",
            "10 x 5 = 50  \n",
            "10 x 6 = 60  \n",
            "10 x 7 = 70  \n",
            "10 x 8 = 80  \n",
            "10 x 9 = 90  \n",
            "10 x 10 = 100  \n"
          ]
        }
      ],
      "source": [
        "# 🎯 Thử thách: Bảng cửu chương\n",
        "# TODO: Sử dụng hai vòng lặp for lồng nhau\n",
        "# TODO: In bảng cửu chương từ 1 đến 10 theo định dạng 'a x b = c'\n",
        "# Gợi ý: sử dụng end='\t' để canh dòng đẹp mắt\n",
        "\n",
        "for i in range(1,11):\n",
        "  for j in range(1,11):\n",
        "    print(f\"{i} x {j} = {i*j}\", end =\"  \")\n",
        "    print()"
      ]
    },
    {
      "cell_type": "markdown",
      "id": "86da1b90",
      "metadata": {
        "id": "86da1b90"
      },
      "source": [
        "### Module 5: Functions & Strings\n",
        "#### 📖 Giải thích\n",
        "- Định nghĩa hàm với `def`, tham số và `return`.\n",
        "- Các thao tác chuỗi: `.split()`, `.join()`, `.strip()`, `.lower()`.\n",
        "#### ⚠️ Common Mistakes\n",
        "- Quên `return` nên hàm trả về `None`.\n",
        "- Dùng giá trị mutable làm tham số mặc định.\n",
        "#### 💡 Pythonic Way\n",
        "- Viết docstring ngắn mô tả chức năng hàm.\n",
        "- (Tuỳ chọn) Dùng type hints để rõ ràng đầu vào/đầu ra.\n",
        "#### 🎯 Thử thách\n",
        "- Viết hàm kiểm tra chuỗi palindrome (đối xứng)."
      ]
    },
    {
      "cell_type": "code",
      "execution_count": null,
      "id": "8c65b574",
      "metadata": {
        "id": "8c65b574",
        "outputId": "11859c97-77cc-41f2-84a1-86f6b9a45455"
      },
      "outputs": [
        {
          "name": "stdout",
          "output_type": "stream",
          "text": [
            "Nguyen Van A đạt 8.46 điểm\n"
          ]
        }
      ],
      "source": [
        "# 💻 Ví dụ: Định nghĩa hàm và thao tác chuỗi\n",
        "def format_student(name: str, score: float) -> str:\n",
        "    \"\"\"Trả về câu mô tả điểm của học sinh.\"\"\"\n",
        "    clean_name = name.strip().title()\n",
        "    return f\"{clean_name} đạt {score:.2f} điểm\"\n",
        "\n",
        "print(format_student(\"  nguyen van a\", 8.456))"
      ]
    },
    {
      "cell_type": "code",
      "execution_count": null,
      "id": "e8d2abbe",
      "metadata": {
        "id": "e8d2abbe",
        "outputId": "198f4359-d7b4-4d62-eb00-4afc1ac56d31",
        "colab": {
          "base_uri": "https://localhost:8080/"
        }
      },
      "outputs": [
        {
          "output_type": "stream",
          "name": "stdout",
          "text": [
            "level -> True\n",
            "Able was I ere I saw Elba -> True\n",
            "Python -> False\n"
          ]
        }
      ],
      "source": [
        "# 🎯 Thử thách: Hàm kiểm tra palindrome\n",
        "# TODO: Viết hàm is_palindrome(text: str) -> bool\n",
        "# TODO: Bỏ khoảng trắng và phân biệt hoa thường trước khi kiểm tra\n",
        "# TODO: Thử nghiệm một vài ví dụ\n",
        "def is_palindrome(text: str) -> bool:\n",
        "    pass  # Thay thế bằng triển khai của bạn\n",
        "\n",
        "\n",
        "\n",
        "#hàm:\n",
        "def is_palindrome(text: str) -> bool:\n",
        "    s = text.replace(\" \", \"\").lower()\n",
        "    if s == s[::-1]:\n",
        "        return True\n",
        "    else:\n",
        "        return False\n",
        "# Ví dụ kiểm thử\n",
        "examples = [\"level\", \"Able was I ere I saw Elba\", \"Python\"]\n",
        "for example in examples:\n",
        "    print(example, '->', is_palindrome(example))"
      ]
    },
    {
      "cell_type": "markdown",
      "id": "e99ff3d2",
      "metadata": {
        "id": "e99ff3d2"
      },
      "source": [
        "### Module 6: Exception Handling\n",
        "#### 📖 Giải thích\n",
        "- Khối `try`/`except`/`else`/`finally`.\n",
        "- Các lỗi thường gặp: `ValueError`, `TypeError`.\n",
        "#### ⚠️ Common Mistakes\n",
        "- Bắt `except:` quá rộng làm che dấu lỗi.\n",
        "#### 💡 Pythonic Way\n",
        "- Bắt lỗi cụ thể, tuân theo triết lý EAFP (Easier to Ask Forgiveness than Permission).\n",
        "#### 🎯 Thử thách\n",
        "- Nhập và validate số nguyên dương từ người dùng."
      ]
    },
    {
      "cell_type": "code",
      "execution_count": 1,
      "id": "f7e42d04",
      "metadata": {
        "id": "f7e42d04",
        "outputId": "d0c2e885-bb79-4080-f3c0-787adcfb265c",
        "colab": {
          "base_uri": "https://localhost:8080/"
        }
      },
      "outputs": [
        {
          "output_type": "stream",
          "name": "stdout",
          "text": [
            "5.0\n",
            "Không thể chia cho 0!\n",
            "inf\n"
          ]
        }
      ],
      "source": [
        "# 💻 Ví dụ: Xử lý input không hợp lệ\n",
        "def divide(a: float, b: float) -> float:\n",
        "    try:\n",
        "        return a / b\n",
        "    except ZeroDivisionError:\n",
        "        print(\"Không thể chia cho 0!\")\n",
        "        return float('inf')\n",
        "\n",
        "print(divide(10, 2))\n",
        "print(divide(5, 0))"
      ]
    },
    {
      "cell_type": "code",
      "execution_count": null,
      "id": "9df56ff6",
      "metadata": {
        "id": "9df56ff6",
        "colab": {
          "base_uri": "https://localhost:8080/"
        },
        "outputId": "ec3230fa-2cb6-4902-9ced-5324b8c0eff1"
      },
      "outputs": [
        {
          "output_type": "stream",
          "name": "stdout",
          "text": [
            "Nhập số nguyên dương: 99.5\n",
            "Không phải số nguyên, nhập lại de\n",
            "Nhập số nguyên dương: -22\n",
            "Số dương phải lớn hơn 0, nhập lại de\n"
          ]
        }
      ],
      "source": [
        "# 🎯 Thử thách: Validate số nguyên dương\n",
        "# TODO: Yêu cầu người dùng nhập một số\n",
        "# TODO: Dùng try/except để bắt ValueError\n",
        "# TODO: Kiểm tra số > 0, nếu không hãy yêu cầu nhập lại\n",
        "# Gợi ý: Dùng vòng lặp while True\n",
        "\n",
        "\n",
        "while True:\n",
        "    try:\n",
        "        n = int(input(\"Nhập số nguyên dương: \"))\n",
        "        if n > 0:\n",
        "            print(\"Bạn đã nhập: \", n)\n",
        "            break\n",
        "        else:\n",
        "            print(\"Số dương phải lớn hơn 0, nhập lại de\")\n",
        "    except ValueError:\n",
        "        print(\"Không phải số nguyên, nhập lại de\")\n",
        "\n"
      ]
    },
    {
      "cell_type": "markdown",
      "id": "f0eeb5b3",
      "metadata": {
        "id": "f0eeb5b3"
      },
      "source": [
        "## Phần 2: Python for Data Science"
      ]
    },
    {
      "cell_type": "markdown",
      "id": "7ef97392",
      "metadata": {
        "id": "7ef97392"
      },
      "source": [
        "### Module 7: List Comprehension & Lambda\n",
        "#### 📖 Giải thích\n",
        "- Cú pháp list comprehension: `[biểu_thức for phần_tử in iterable if điều_kiện]`.\n",
        "- Lambda: hàm ẩn danh hữu ích cho thao tác nhanh.\n",
        "#### ⚠️ Common Mistakes\n",
        "- Viết comprehension quá dài, khó đọc.\n",
        "#### 💡 Pythonic Way\n",
        "- Ưu tiên comprehension khi logic đơn giản.\n",
        "- Khi logic phức tạp, tách ra hàm riêng để rõ ràng.\n",
        "#### 🎯 Thử thách\n",
        "- Lọc số chẵn trong danh sách và bình phương chúng."
      ]
    },
    {
      "cell_type": "code",
      "execution_count": null,
      "id": "b0e04b74",
      "metadata": {
        "id": "b0e04b74",
        "outputId": "e2cba7c4-8fea-4e22-8ead-587947c2b548"
      },
      "outputs": [
        {
          "name": "stdout",
          "output_type": "stream",
          "text": [
            "Comprehension: [1, 4, 9, 16, 25, 36, 49, 64, 81, 100]\n",
            "Map + lambda: [1, 4, 9, 16, 25, 36, 49, 64, 81, 100]\n",
            "Số chẵn: [2, 4, 6, 8, 10]\n"
          ]
        }
      ],
      "source": [
        "# 💻 Ví dụ: So sánh comprehension và map/filter\n",
        "numbers = list(range(1, 11))\n",
        "squares_comp = [n ** 2 for n in numbers]\n",
        "squares_map = list(map(lambda n: n ** 2, numbers))\n",
        "print(\"Comprehension:\", squares_comp)\n",
        "print(\"Map + lambda:\", squares_map)\n",
        "even_numbers = [n for n in numbers if n % 2 == 0]\n",
        "print(\"Số chẵn:\", even_numbers)"
      ]
    },
    {
      "cell_type": "code",
      "execution_count": null,
      "id": "da60c543",
      "metadata": {
        "id": "da60c543",
        "outputId": "0a4841c2-54ee-4a76-af6d-5c37e07f9a14",
        "colab": {
          "base_uri": "https://localhost:8080/"
        }
      },
      "outputs": [
        {
          "output_type": "stream",
          "name": "stdout",
          "text": [
            "Danh sách bình phương số chẵn là: [16, 100, 144, 324]\n"
          ]
        }
      ],
      "source": [
        "# 🎯 Thử thách: Lọc và bình phương số chẵn\n",
        "# TODO: Cho danh sách numbers, tạo danh sách mới chứa bình phương của số chẵn\n",
        "numbers = [3, 4, 7, 10, 12, 15, 18]\n",
        "# Gợi ý: sử dụng list comprehension hoặc kết hợp filter/map\n",
        "even_square_numbers = []  # Thay thế bằng kết quả của bạn\n",
        "for n in numbers:\n",
        "    if n % 2 == 0:\n",
        "        x = n * n\n",
        "        even_square_numbers.append(x)\n",
        "\n",
        "print(\"Danh sách bình phương số chẵn là:\", even_square_numbers)\n",
        "\n",
        "\n"
      ]
    },
    {
      "cell_type": "markdown",
      "id": "095f86ff",
      "metadata": {
        "id": "095f86ff"
      },
      "source": [
        "### Module 8: Statistics & Math\n",
        "#### 📖 Giải thích\n",
        "- Mô-đun `statistics`: `mean`, `median`, `mode`, `stdev`, `pstdev`, `variance`.\n",
        "- Tính toán toán học dùng mô-đun `math`.\n",
        "#### ⚠️ Common Mistakes\n",
        "- Chia cho 0 khi danh sách rỗng.\n",
        "- Nhầm giữa `stdev` (mẫu) và `pstdev` (toàn bộ).\n",
        "#### 💡 Pythonic Way\n",
        "- Kiểm tra đầu vào trước khi tính toán.\n",
        "- Dùng `statistics` thay vì tự cài đặt nếu đã có sẵn.\n",
        "#### 🎯 Thử thách\n",
        "- Tính mean, median, std cho danh sách điểm thi."
      ]
    },
    {
      "cell_type": "code",
      "execution_count": null,
      "id": "1ac83b26",
      "metadata": {
        "id": "1ac83b26",
        "outputId": "10b1954b-d3e7-44ae-962d-32e0867949e0"
      },
      "outputs": [
        {
          "name": "stdout",
          "output_type": "stream",
          "text": [
            "Mean: 7.88\n",
            "Median: 7.9\n",
            "Standard Deviation: 0.8757853618324525\n"
          ]
        }
      ],
      "source": [
        "# 💻 Ví dụ: Tính toán thống kê cơ bản\n",
        "sample_data = [7.5, 8.0, 9.2, 6.8, 7.9]\n",
        "print(\"Mean:\", stats.mean(sample_data))\n",
        "print(\"Median:\", stats.median(sample_data))\n",
        "print(\"Standard Deviation:\", stats.stdev(sample_data))"
      ]
    },
    {
      "cell_type": "code",
      "execution_count": null,
      "id": "f5346645",
      "metadata": {
        "id": "f5346645",
        "colab": {
          "base_uri": "https://localhost:8080/"
        },
        "outputId": "e05bdf6c-8bb0-4b19-fbb4-150e97d104f1"
      },
      "outputs": [
        {
          "output_type": "stream",
          "name": "stdout",
          "text": [
            "mean: 7.43\n",
            "median: 7.5\n",
            "std: 1.19\n"
          ]
        }
      ],
      "source": [
        "# 🎯 Thử thách: Thống kê điểm thi\n",
        "# TODO: Cho danh sách điểm exams, tính mean, median, std\n",
        "# TODO: In kết quả với 2 chữ số thập phân\n",
        "exams = [5.5, 7.0, 8.75, 9.0, 6.25, 7.5, 8.0]\n",
        "# Gợi ý: sử dụng round(value, 2)\n",
        "\n",
        "mean = sum(exams) / len(exams)\n",
        "\n",
        "exams_sorted = sorted(exams)\n",
        "\n",
        "n = len(exams_sorted)\n",
        "\n",
        "if n % 2 == 1:\n",
        "    median = exams_sorted[n // 2]\n",
        "else:\n",
        "    median = (exams_sorted[n // 2 - 1] + exams_sorted[n // 2]) / 2\n",
        "tong = 0\n",
        "\n",
        "for x in exams:\n",
        "    tong = tong + (x - mean) ** 2\n",
        "\n",
        "std = (tong / len(exams)) ** 0.5\n",
        "\n",
        "print(\"mean:\", round(mean, 2))\n",
        "print(\"median:\", round(median, 2))\n",
        "print(\"std:\", round(std, 2))\n",
        "\n",
        "\n",
        "#sgktinhoc11\n"
      ]
    },
    {
      "cell_type": "markdown",
      "id": "3c9d5ef7",
      "metadata": {
        "id": "3c9d5ef7"
      },
      "source": [
        "### Module 9: NumPy Basics\n",
        "#### 📖 Giải thích\n",
        "- `numpy.ndarray` cho phép thao tác vector hoá và broadcasting.\n",
        "- Các thao tác thường dùng: tạo array, reshape, slicing, toán tử vector.\n",
        "#### ⚠️ Common Mistakes\n",
        "- Nhầm list với array (thiếu thuộc tính `.shape`).\n",
        "- Sai lệch kích thước dẫn tới lỗi broadcasting.\n",
        "#### 💡 Pythonic Way\n",
        "- Ưu tiên thao tác vector hoá thay vì vòng lặp thuần Python.\n",
        "#### 🎯 Thử thách\n",
        "- Chuẩn hoá (normalize) mảng điểm theo z-score."
      ]
    },
    {
      "cell_type": "code",
      "execution_count": null,
      "id": "c47e8bb4",
      "metadata": {
        "id": "c47e8bb4",
        "outputId": "bd2d3146-6282-45fd-ec2c-c02dde5bb8e1"
      },
      "outputs": [
        {
          "name": "stdout",
          "output_type": "stream",
          "text": [
            "Array: [1 2 3 4 5]\n",
            "Shape: (5,)\n",
            "Bình phương từng phần tử: [ 1  4  9 16 25]\n",
            "Ma trận 3x4 [[ 1  2  3  4]\n",
            " [ 5  6  7  8]\n",
            " [ 9 10 11 12]]\n",
            "Cắt cột 2-3: [[ 2  3]\n",
            " [ 6  7]\n",
            " [10 11]]\n"
          ]
        }
      ],
      "source": [
        "# 💻 Ví dụ: Cơ bản về NumPy\n",
        "arr = np.array([1, 2, 3, 4, 5])\n",
        "print(\"Array:\", arr)\n",
        "print(\"Shape:\", arr.shape)\n",
        "print(\"Bình phương từng phần tử:\", arr ** 2)\n",
        "matrix = np.arange(1, 13).reshape(3, 4)\n",
        "print(\"Ma trận 3x4\",  matrix)\n",
        "print(\"Cắt cột 2-3:\", matrix[:, 1:3])"
      ]
    },
    {
      "cell_type": "code",
      "execution_count": null,
      "id": "c373345c",
      "metadata": {
        "id": "c373345c",
        "colab": {
          "base_uri": "https://localhost:8080/"
        },
        "outputId": "05adcf5e-a5c3-4ded-f75e-f747f1369e14"
      },
      "outputs": [
        {
          "output_type": "stream",
          "name": "stdout",
          "text": [
            "mean: 7.83\n",
            "std: 0.95\n",
            "điểm chuẩn hoá: [-1.4  -0.88  0.39  1.75 -0.04  0.18]\n"
          ]
        }
      ],
      "source": [
        "# 🎯 Thử thách: Chuẩn hoá điểm với z-score\n",
        "# TODO: Tạo np.array từ danh sách điểm\n",
        "# TODO: Tính mean và std (dùng np.mean, np.std)\n",
        "# TODO: Chuẩn hoá từng điểm: (score - mean) / std\n",
        "raw_scores = [6.5, 7.0, 8.2, 9.5, 7.8, 8.0]\n",
        "import numpy as np\n",
        "rr = np.array(raw_scores)\n",
        "\n",
        "mean = np.mean(arr)\n",
        "std = np.std(arr)\n",
        "normalized_scores = (arr - mean) / std\n",
        "\n",
        "print(\"mean:\", round(mean, 2))\n",
        "print(\"std:\", round(std, 2))\n",
        "print(\"điểm chuẩn hoá:\", np.round(normalized_scores, 2))"
      ]
    },
    {
      "cell_type": "markdown",
      "id": "b71b4fd5",
      "metadata": {
        "id": "b71b4fd5"
      },
      "source": [
        "## Phần 3: Data Visualization"
      ]
    },
    {
      "cell_type": "markdown",
      "id": "9e172e82",
      "metadata": {
        "id": "9e172e82"
      },
      "source": [
        "### Module 10: Matplotlib Basics\n",
        "#### 📖 Giải thích\n",
        "- Các hàm cơ bản: `plt.plot`, `plt.bar`, `plt.hist`, `plt.scatter`.\n",
        "- Tư duy figure/axes: `fig, ax = plt.subplots()`.\n",
        "#### ⚠️ Common Mistakes\n",
        "- Quên `plt.show()` khiến biểu đồ không hiển thị.\n",
        "- Thiếu tiêu đề, nhãn trục, chú thích.\n",
        "#### 💡 Pythonic Way\n",
        "- Tách dữ liệu và thiết lập biểu đồ rõ ràng.\n",
        "- Dùng subplot để vẽ nhiều đồ thị trong một figure.\n",
        "#### 🎯 Thử thách\n",
        "- Vẽ histogram phân bố điểm của lớp."
      ]
    },
    {
      "cell_type": "code",
      "execution_count": null,
      "id": "19033aff",
      "metadata": {
        "id": "19033aff",
        "colab": {
          "base_uri": "https://localhost:8080/",
          "height": 474
        },
        "outputId": "690b90a4-3c54-4e5f-f536-7ef9b2579af9"
      },
      "outputs": [
        {
          "output_type": "display_data",
          "data": {
            "text/plain": [
              "<Figure size 640x480 with 1 Axes>"
            ],
            "image/png": "[encoded data removed]"
          },
          "metadata": {}
        }
      ],
      "source": [
        "# 🎯 Thử thách: Histogram phân bố điểm\n",
        "# TODO: Cho danh sách điểm, vẽ histogram với matplotlib\n",
        "class_scores = np.random.normal(loc=7.5, scale=1.2, size=50)\n",
        "# Gợi ý: dùng plt.hist(..., bins=10), thêm tiêu đề và nhãn trục\n",
        "\n",
        "import numpy as np\n",
        "import matplotlib.pyplot as plt\n",
        "\n",
        "plt.hist(class_scores, bins=10, color=\"red\", edgecolor=\"black\")\n",
        "\n",
        "plt.title(\"Biểu đồ phân bố điểm\")\n",
        "plt.xlabel(\"Điểm số\")\n",
        "plt.ylabel(\"Số lượng\")\n",
        "plt.show()\n",
        "\n",
        "\n"
      ]
    },
    {
      "cell_type": "markdown",
      "id": "6a54695f",
      "metadata": {
        "id": "6a54695f"
      },
      "source": [
        "## Phần 4: Final Projects\n",
        "Hoàn thành ba dự án dưới đây. Bạn có thể mở rộng thêm tính năng để tăng thử thách."
      ]
    },
    {
      "cell_type": "markdown",
      "id": "5e6481af",
      "metadata": {
        "id": "5e6481af"
      },
      "source": [
        "### Bài 1: Quản lý điểm học sinh (Nâng cao)\n",
        "#### Yêu cầu\n",
        "- Nhập danh sách học sinh và điểm (có thể dùng dict).\n",
        "- Xếp loại học sinh theo thang điểm (A/B/C/D/F tuỳ vào bạn định nghĩa).\n",
        "- Tìm học sinh điểm cao nhất/thấp nhất.\n",
        "- Tính mean, median, std của lớp.\n",
        "- Vẽ histogram phân bố điểm và bar chart số lượng từng loại.\n",
        "#### Gợi ý kỹ năng\n",
        "- Dùng dict để lưu trữ thông tin, hàm để tổ chức logic, `statistics` và `matplotlib`."
      ]
    },
    {
      "cell_type": "code",
      "execution_count": null,
      "id": "da81a7aa",
      "metadata": {
        "id": "da81a7aa",
        "colab": {
          "base_uri": "https://localhost:8080/",
          "height": 1000
        },
        "outputId": "c5fd87ae-c4df-4f10-9a12-52d11a2cc210"
      },
      "outputs": [
        {
          "output_type": "stream",
          "name": "stdout",
          "text": [
            "Trịnh Tuấn\n",
            "  Điểm: [1, 2.5, 6.5]\n",
            "  Trung bình: 3.33\n",
            "  Median: 2.5\n",
            "  Độ lệch chuẩn: 2.32\n",
            "  Xếp loại: Yếu\n",
            "\n",
            "Jack\n",
            "  Điểm: [0, 1, 2]\n",
            "  Trung bình: 1\n",
            "  Median: 1\n",
            "  Độ lệch chuẩn: 0.82\n",
            "  Xếp loại: Yếu\n",
            "\n",
            "J97\n",
            "  Điểm: [5.5, 6.0, 6.5]\n",
            "  Trung bình: 6.0\n",
            "  Median: 6.0\n",
            "  Độ lệch chuẩn: 0.41\n",
            "  Xếp loại: Trung bình\n",
            "\n",
            "Điểm cao nhất lớp: 6.5\n",
            "Điểm thấp nhất lớp: 0\n"
          ]
        },
        {
          "output_type": "display_data",
          "data": {
            "text/plain": [
              "<Figure size 640x480 with 1 Axes>"
            ],
            "image/png": "[encoded data removed]"
          },
          "metadata": {}
        },
        {
          "output_type": "display_data",
          "data": {
            "text/plain": [
              "<Figure size 640x480 with 1 Axes>"
            ],
            "image/png": "[encoded data removed]"
          },
          "metadata": {}
        }
      ],
      "source": [
        "# 🛠️ Skeleton: Quản lý điểm học sinh\n",
        "# Bước 1: Thu thập dữ liệu học sinh\n",
        "students = {\n",
        "    # \"Tên\": [danh_sách_điểm]\n",
        "}\n",
        "\n",
        "# Bước 2: Viết hàm xếp loại\n",
        "def classify(score: float) -> str:\n",
        "    # TODO: Trả về hạng dựa trên score\n",
        "    return \"TODO\"\n",
        "\n",
        "# Bước 3: Tính toán thống kê và tìm max/min\n",
        "# TODO: Dùng statistics.mean/median/stdev\n",
        "# TODO: In báo cáo điểm từng học sinh\n",
        "\n",
        "# Bước 4: Vẽ biểu đồ histogram & bar chart\n",
        "# TODO: Sử dụng matplotlib để trực quan hoá\n",
        "\n",
        "hocsinh = {\"Trịnh Tuấn\": [1, 2.5, 6.5], \"Jack\": [0, 1, 2], \"J97\": [5.5, 6.0, 6.5]}\n",
        "\n",
        "import statistics\n",
        "import matplotlib.pyplot as plt\n",
        "\n",
        "def classify(score: float) -> str:\n",
        "    if score >= 8:\n",
        "        return \"Giỏi\"\n",
        "    elif score >= 6.5:\n",
        "        return \"Khá\"\n",
        "    elif score >= 5:\n",
        "        return \"Trung bình\"\n",
        "    else:\n",
        "        return \"Yếu\"\n",
        "\n",
        "tatca_diem = []\n",
        "for ten, ds_diem in hocsinh.items():\n",
        "    mean = statistics.mean(ds_diem)\n",
        "    median = statistics.median(ds_diem)\n",
        "    stdev = statistics.pstdev(ds_diem)\n",
        "    print(ten)\n",
        "    print(\"  Điểm:\", ds_diem)\n",
        "    print(\"  Trung bình:\", round(mean, 2))\n",
        "    print(\"  Median:\", round(median, 2))\n",
        "    print(\"  Độ lệch chuẩn:\", round(stdev, 2))\n",
        "    print(\"  Xếp loại:\", classify(mean))\n",
        "    print()\n",
        "    tatca_diem.extend(ds_diem)\n",
        "\n",
        "print(\"Điểm cao nhất lớp:\", max(tatca_diem))\n",
        "print(\"Điểm thấp nhất lớp:\", min(tatca_diem))\n",
        "\n",
        "plt.hist(tatca_diem, bins=5, color=\"green\", edgecolor=\"black\")\n",
        "plt.title(\"Phân bố điểm của cả lớp\")\n",
        "plt.xlabel(\"Điểm số\")\n",
        "plt.ylabel(\"Số lượng\")\n",
        "plt.show()\n",
        "\n",
        "names = list(hocsinh.keys())\n",
        "means = [statistics.mean(ds) for ds in hocsinh.values()]\n",
        "\n",
        "plt.bar(names, means, color=\"red\")\n",
        "plt.title(\"Điểm trung bình từng học sinh\")\n",
        "plt.xlabel(\"Học sinh\")\n",
        "plt.ylabel(\"Điểm TB\")\n",
        "plt.show()\n",
        "\n",
        "#support bởi https://www.youtube.com/watch?v=Ak7GamuoIr4&t=1440s"
      ]
    },
    {
      "cell_type": "markdown",
      "id": "41fcdb75",
      "metadata": {
        "id": "41fcdb75"
      },
      "source": [
        "### Bài 2: Vẽ hình thoi\n",
        "#### Yêu cầu\n",
        "- Nhập `n` (validate số nguyên dương).\n",
        "- Nếu `n` chẵn thì tăng lên `n + 1` để đảm bảo số lẻ.\n",
        "- Vẽ hình thoi n×n bằng ký tự `*`.\n",
        "#### Gợi ý kỹ năng\n",
        "- Sử dụng vòng lặp, nhân chuỗi và xử lý ngoại lệ."
      ]
    },
    {
      "cell_type": "code",
      "execution_count": null,
      "id": "702d077b",
      "metadata": {
        "id": "702d077b",
        "colab": {
          "base_uri": "https://localhost:8080/"
        },
        "outputId": "9b5c10bd-028f-4dd8-81a3-99d57c7feef0"
      },
      "outputs": [
        {
          "output_type": "stream",
          "name": "stdout",
          "text": [
            "Nhập số nguyên dương lẻ: 50\n",
            "Phải nhập số nguyên dương và lẻ, nhập lại đi!\n",
            "Nhập số nguyên dương lẻ: 31\n",
            "               *\n",
            "              ***\n",
            "             *****\n",
            "            *******\n",
            "           *********\n",
            "          ***********\n",
            "         *************\n",
            "        ***************\n",
            "       *****************\n",
            "      *******************\n",
            "     *********************\n",
            "    ***********************\n",
            "   *************************\n",
            "  ***************************\n",
            " *****************************\n",
            "*******************************\n",
            " *****************************\n",
            "  ***************************\n",
            "   *************************\n",
            "    ***********************\n",
            "     *********************\n",
            "      *******************\n",
            "       *****************\n",
            "        ***************\n",
            "         *************\n",
            "          ***********\n",
            "           *********\n",
            "            *******\n",
            "             *****\n",
            "              ***\n",
            "               *\n"
          ]
        }
      ],
      "source": [
        "# 🛠️ Skeleton: Vẽ hình thoi\n",
        "# TODO: Gọi read_positive_odd và draw_rhombus để chạy chương trình\n",
        "\n",
        "# ⚡ Vẽ hình thoi\n",
        "\n",
        "\n",
        "def read_positive_odd() -> int:\n",
        "    \"\"\"Trả về số nguyên dương lẻ từ input người dùng.\"\"\"\n",
        "    while True:\n",
        "        try:\n",
        "            n = int(input(\"Nhập số nguyên dương lẻ: \"))\n",
        "            if n > 0 and n % 2 == 1:\n",
        "                return n\n",
        "            else:\n",
        "                print(\"Phải nhập số nguyên dương và lẻ, nhập lại đi!\")\n",
        "        except ValueError:\n",
        "            print(\"Không phải số nguyên, nhập lại đi!\")\n",
        "\n",
        "\n",
        "def draw_rhombus(n: int) -> None:\n",
        "    \"\"\"Vẽ hình thoi n x n bằng ký tự '*'\"\"\"\n",
        "\n",
        "    mid = n // 2\n",
        "    for i in range(n):\n",
        "\n",
        "        if i <= mid:\n",
        "            spaces = mid - i\n",
        "            stars = 2 * i + 1\n",
        "        else:\n",
        "            spaces = i - mid\n",
        "            stars = 2 * (n - i - 1) + 1\n",
        "        print(\" \" * spaces + \"*\" * stars)\n",
        "\n",
        "so = read_positive_odd()\n",
        "draw_rhombus(so)\n",
        "\n",
        "\n",
        "#support bởi ChatGPT"
      ]
    },
    {
      "cell_type": "markdown",
      "id": "3e8f4217",
      "metadata": {
        "id": "3e8f4217"
      },
      "source": [
        "### Bài 3: Statistical Analysis Project ⭐\n",
        "#### Yêu cầu\n",
        "- Input: điểm của nhiều môn (Toán, Lý, Hóa, Anh, Văn) cho nhiều học sinh.\n",
        "- Tính mean, median, mode, std cho mỗi môn.\n",
        "- Tính mean GPA cho từng học sinh.\n",
        "- Tính hệ số tương quan giữa các môn.\n",
        "- Vẽ histogram cho mỗi môn, bar chart điểm trung bình từng môn, scatter plot thể hiện tương quan hai môn.\n",
        "#### Gợi ý kỹ năng\n",
        "- Sử dụng NumPy arrays, `statistics`, `numpy.corrcoef`, `matplotlib`."
      ]
    },
    {
      "cell_type": "code",
      "execution_count": 14,
      "id": "d5df8a2b",
      "metadata": {
        "id": "d5df8a2b",
        "colab": {
          "base_uri": "https://localhost:8080/",
          "height": 1000
        },
        "outputId": "7ecd784b-e2c1-452d-e685-7908a26db6ea"
      },
      "outputs": [
        {
          "output_type": "stream",
          "name": "stdout",
          "text": [
            " Thống kê từng môn:\n",
            "Toán: mean=7.90, median=8.00, mode=8.50, std=0.96\n",
            "Lý: mean=7.76, median=7.80, mode=7.00, std=0.56\n",
            "Hóa: mean=7.84, median=8.00, mode=8.00, std=0.59\n",
            "Anh: mean=8.80, median=9.00, mode=9.00, std=0.57\n",
            "Văn: mean=8.30, median=8.50, mode=8.50, std=0.57\n",
            "\n",
            "🎓 GPA từng học sinh:\n",
            "Học sinh 1: GPA = 8.20\n",
            "Học sinh 2: GPA = 7.90\n",
            "Học sinh 3: GPA = 8.90\n",
            "Học sinh 4: GPA = 7.30\n",
            "Học sinh 5: GPA = 8.30\n",
            "\n",
            "🔗 Ma trận tương quan giữa các môn:\n",
            "[[1.         0.29270998 0.94938316 0.98031562 0.98031562]\n",
            " [0.29270998 1.         0.38959219 0.39975724 0.39975724]\n",
            " [0.94938316 0.38959219 1.         0.98904437 0.98904437]\n",
            " [0.98031562 0.39975724 0.98904437 1.         1.        ]\n",
            " [0.98031562 0.39975724 0.98904437 1.         1.        ]]\n",
            "\n"
          ]
        },
        {
          "output_type": "display_data",
          "data": {
            "text/plain": [
              "<Figure size 2000x400 with 5 Axes>"
            ],
            "image/png": "[encoded data removed]"
          },
          "metadata": {}
        },
        {
          "output_type": "display_data",
          "data": {
            "text/plain": [
              "<Figure size 800x500 with 1 Axes>"
            ],
            "image/png": "[encoded data removed]"
          },
          "metadata": {}
        },
        {
          "output_type": "display_data",
          "data": {
            "text/plain": [
              "<Figure size 600x500 with 1 Axes>"
            ],
            "image/png": "[encoded data removed]"
          },
          "metadata": {}
        }
      ],
      "source": [
        "# 🛠️ Skeleton: Statistical Analysis Project\n",
        "import numpy as np\n",
        "import matplotlib.pyplot as plt\n",
        "from statistics import mean, median, mode, stdev\n",
        "\n",
        "subjects = [\"Toán\", \"Lý\", \"Hóa\", \"Anh\", \"Văn\"]\n",
        "                                                                  # TODO: Khởi tạo dữ liệu điểm dạng NumPy array (shape: số_học_sinh x số_môn)\n",
        "data = np.array([])\n",
        "\n",
        "                                                                  # TODO: Tính mean, median, mode, std cho mỗi môn\n",
        "                                                                  # Gợi ý: Duyệt qua trục cột (axis=0)\n",
        "\n",
        "                                                                  # TODO: Tính mean GPA của mỗi học sinh\n",
        "\n",
        "                                                                  # TODO: Tính ma trận tương quan giữa các môn (np.corrcoef)\n",
        "\n",
        "                                                                  # TODO: Vẽ histogram, bar chart, scatter plot\n",
        "                                                                  # Gợi ý: Sử dụng subplot để sắp xếp biểu đồ gọn gàng\n",
        "\n",
        "                                                                  # Đảm bảo các thư viện được import LÊN ĐẦU\n",
        "diem = [\n",
        "    [8.5, 7.0, 8.0, 9.0, 8.5],\n",
        "    [7.5, 8.0, 7.5, 8.5, 8.0],\n",
        "    [9.0, 8.5, 8.5, 9.5, 9.0],\n",
        "    [6.5, 7.5, 7.0, 8.0, 7.5],\n",
        "    [8.0, 7.8, 8.2, 9.0, 8.5]\n",
        "]\n",
        "\n",
        "\n",
        "arr = np.array(diem)\n",
        "\n",
        "print(\" Thống kê từng môn:\")\n",
        "for i in range(len(subjects)):\n",
        "    mon_diem = arr[:, i]\n",
        "    print(f\"{subjects[i]}: mean={mean(mon_diem):.2f}, median={median(mon_diem):.2f}, mode={mode(mon_diem):.2f}, std={stdev(mon_diem):.2f}\")\n",
        "\n",
        "print(\"\\n🎓 GPA từng học sinh:\")\n",
        "for i in range(len(arr)):\n",
        "    gpa = mean(arr[i])\n",
        "    print(f\"Học sinh {i+1}: GPA = {gpa:.2f}\")\n",
        "\n",
        "print(\"\\n🔗 Ma trận tương quan giữa các môn:\")\n",
        "corr = np.corrcoef(arr.T)\n",
        "print(corr)\n",
        "print()\n",
        "\n",
        "fig, axs = plt.subplots(1, 5, figsize=(20, 4))\n",
        "for i in range(5):\n",
        "    axs[i].hist(arr[:, i], bins=5, color='gray', edgecolor='black')\n",
        "    axs[i].set_title(subjects[i])\n",
        "    axs[i].set_xlabel('Điểm')\n",
        "    axs[i].set_ylabel('Số HS')\n",
        "fig.suptitle('Histogram điểm từng môn', fontsize=16)\n",
        "plt.tight_layout()\n",
        "plt.show()\n",
        "\n",
        "diem_tb_mon = [mean(arr[:, i]) for i in range(len(subjects))]\n",
        "plt.figure(figsize=(8, 5))\n",
        "plt.bar(subjects, diem_tb_mon, color='red')\n",
        "plt.title('Điểm trung bình từng môn')\n",
        "plt.xlabel('Môn học')\n",
        "plt.ylabel('Điểm TB')\n",
        "plt.grid(True)\n",
        "plt.show()\n",
        "\n",
        "plt.figure(figsize=(6, 5))\n",
        "plt.scatter(arr[:, 0], arr[:, 3], color='orange', edgecolors='black')\n",
        "plt.title('Tương quan Toán vs Anh')\n",
        "plt.xlabel('Điểm Toán')\n",
        "plt.ylabel('Điểm Anh')\n",
        "plt.grid(True)\n",
        "plt.show()\n"
      ]
    }
  ],
  "metadata": {
    "kernelspec": {
      "display_name": ".venv",
      "language": "python",
      "name": "python3"
    },
    "language_info": {
      "codemirror_mode": {
        "name": "ipython",
        "version": 3
      },
      "file_extension": ".py",
      "mimetype": "text/x-python",
      "name": "python",
      "nbconvert_exporter": "python",
      "pygments_lexer": "ipython3",
      "version": "3.11.2"
    },
    "colab": {
      "provenance": [],
      "include_colab_link": true
    }
  },
  "nbformat": 4,
  "nbformat_minor": 5
}